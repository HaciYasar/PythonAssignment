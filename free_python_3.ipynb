{
  "nbformat": 4,
  "nbformat_minor": 0,
  "metadata": {
    "colab": {
      "name": "free_python_3.ipynb",
      "provenance": [],
      "authorship_tag": "ABX9TyOvK1eFFmJ25g5KOJM7v9yU",
      "include_colab_link": true
    },
    "kernelspec": {
      "name": "python3",
      "display_name": "Python 3"
    },
    "language_info": {
      "name": "python"
    }
  },
  "cells": [
    {
      "cell_type": "markdown",
      "metadata": {
        "id": "view-in-github",
        "colab_type": "text"
      },
      "source": [
        "<a href=\"https://colab.research.google.com/github/HaciYasar/PythonAssignment/blob/main/free_python_3.ipynb\" target=\"_parent\"><img src=\"https://colab.research.google.com/assets/colab-badge.svg\" alt=\"Open In Colab\"/></a>"
      ]
    },
    {
      "cell_type": "code",
      "execution_count": null,
      "metadata": {
        "colab": {
          "base_uri": "https://localhost:8080/"
        },
        "id": "tBkB6qp43so8",
        "outputId": "97a642dd-6812-4507-da06-0fc8cf63a0b1"
      },
      "outputs": [
        {
          "output_type": "stream",
          "name": "stdout",
          "text": [
            "Dizeleri öğrendim\n"
          ]
        }
      ],
      "source": [
        "text1 = \"Dizeleri öğrendim\" #çift tırnak içine alınır\n",
        "print(text1)"
      ]
    },
    {
      "cell_type": "code",
      "source": [
        "e_mail = 'joseph@clarusway.com' # tek tırnakla çevrili\n",
        "print( e_mail )"
      ],
      "metadata": {
        "colab": {
          "base_uri": "https://localhost:8080/"
        },
        "id": "G7mhULCT4j3S",
        "outputId": "5e6844bf-2a76-47b4-e4ca-926b624a7f6b"
      },
      "execution_count": null,
      "outputs": [
        {
          "output_type": "stream",
          "name": "stdout",
          "text": [
            "joseph@clarusway.com\n"
          ]
        }
      ]
    },
    {
      "cell_type": "code",
      "source": [
        "print ('632') # bu da bir dize türüdür"
      ],
      "metadata": {
        "colab": {
          "base_uri": "https://localhost:8080/"
        },
        "id": "fBUWxhYn5yct",
        "outputId": "ab2f9d4b-216f-48ee-b20d-d03c1db02182"
      },
      "execution_count": null,
      "outputs": [
        {
          "output_type": "stream",
          "name": "stdout",
          "text": [
            "632\n"
          ]
        }
      ]
    },
    {
      "cell_type": "code",
      "source": [
        "example1 = 'bazen ne söylediğiniz, nasıl söylediğinizden daha az çnemlidir'\n",
        "print(type(example1) )"
      ],
      "metadata": {
        "colab": {
          "base_uri": "https://localhost:8080/"
        },
        "id": "W1NBGX5S_QNA",
        "outputId": "ac8b1174-26e8-4ce5-f605-d454049bf841"
      },
      "execution_count": null,
      "outputs": [
        {
          "output_type": "stream",
          "name": "stdout",
          "text": [
            "<class 'str'>\n"
          ]
        }
      ]
    },
    {
      "cell_type": "code",
      "source": [
        "example2 = '71'\n",
        "print(type(example2))"
      ],
      "metadata": {
        "colab": {
          "base_uri": "https://localhost:8080/"
        },
        "id": "7y3VQI4zA6zr",
        "outputId": "d6e6cb44-3e19-4155-9b81-06b59d4bef0f"
      },
      "execution_count": null,
      "outputs": [
        {
          "output_type": "stream",
          "name": "stdout",
          "text": [
            "<class 'str'>\n"
          ]
        }
      ]
    },
    {
      "cell_type": "code",
      "source": [
        "example3 = 71\n",
        "print(type(example3))"
      ],
      "metadata": {
        "colab": {
          "base_uri": "https://localhost:8080/"
        },
        "id": "K1j26_UUBVwS",
        "outputId": "afb069a0-d818-4e76-9c93-39a1b4985eac"
      },
      "execution_count": null,
      "outputs": [
        {
          "output_type": "stream",
          "name": "stdout",
          "text": [
            "<class 'int'>\n"
          ]
        }
      ]
    },
    {
      "cell_type": "code",
      "source": [
        "example4 = 71.0\n",
        "print(type(example4))"
      ],
      "metadata": {
        "colab": {
          "base_uri": "https://localhost:8080/"
        },
        "id": "mIfiKdE-By8i",
        "outputId": "c03899e8-da83-4e05-ee2c-59fa641a3425"
      },
      "execution_count": null,
      "outputs": [
        {
          "output_type": "stream",
          "name": "stdout",
          "text": [
            "<class 'float'>\n"
          ]
        }
      ]
    },
    {
      "cell_type": "code",
      "source": [
        "example5 = 3.14j\n",
        "print(type(example5))"
      ],
      "metadata": {
        "colab": {
          "base_uri": "https://localhost:8080/"
        },
        "id": "HgbloBvyCB4J",
        "outputId": "df281a21-7b24-420b-9721-f7e35d7f8b58"
      },
      "execution_count": null,
      "outputs": [
        {
          "output_type": "stream",
          "name": "stdout",
          "text": [
            "<class 'complex'>\n"
          ]
        }
      ]
    },
    {
      "cell_type": "code",
      "source": [
        "example6 = True\n",
        "print(type(example6))"
      ],
      "metadata": {
        "colab": {
          "base_uri": "https://localhost:8080/"
        },
        "id": "iiA6qvaiCVqg",
        "outputId": "a0c28554-1f38-47ec-e07d-95a55d0a355a"
      },
      "execution_count": null,
      "outputs": [
        {
          "output_type": "stream",
          "name": "stdout",
          "text": [
            "<class 'bool'>\n"
          ]
        }
      ]
    },
    {
      "cell_type": "code",
      "source": [
        "f = 3.14 #tip yüze\n",
        "print(type(f))"
      ],
      "metadata": {
        "colab": {
          "base_uri": "https://localhost:8080/"
        },
        "id": "Lkyc8Ty1CkDA",
        "outputId": "126f5bff-5e47-4d7b-9771-090dcaf0e243"
      },
      "execution_count": null,
      "outputs": [
        {
          "output_type": "stream",
          "name": "stdout",
          "text": [
            "<class 'float'>\n"
          ]
        }
      ]
    },
    {
      "cell_type": "code",
      "source": [
        "f = 3.14 # tip yüzer\n",
        "s = str ( f ) #kayan noktayı dizeye dönüştürme\n",
        "print(type(s))"
      ],
      "metadata": {
        "colab": {
          "base_uri": "https://localhost:8080/"
        },
        "id": "nz8RVHNLEEqU",
        "outputId": "8e694fdc-dbe1-4d01-f747-327a14cf518e"
      },
      "execution_count": null,
      "outputs": [
        {
          "output_type": "stream",
          "name": "stdout",
          "text": [
            "<class 'str'>\n"
          ]
        }
      ]
    },
    {
      "cell_type": "code",
      "source": [
        "f = 3.14 # the type is float\n",
        "i = int(f) # bir kayan noktalı değeri bir tam sayıya dönüştürürken ondalık kısım dikkate alınmaz\n",
        "print(i, '\\n')\n",
        "print(type(i))"
      ],
      "metadata": {
        "colab": {
          "base_uri": "https://localhost:8080/"
        },
        "id": "OPASWJVGFuS6",
        "outputId": "9291cd44-0eb3-4894-8a31-ff642662d00e"
      },
      "execution_count": null,
      "outputs": [
        {
          "output_type": "stream",
          "name": "stdout",
          "text": [
            "3 \n",
            "\n",
            "<class 'int'>\n"
          ]
        }
      ]
    },
    {
      "cell_type": "code",
      "source": [
        "i = 3\n",
        "\n",
        "f = float(i)\n",
        "print(f, '\\n')\n",
        "print(type(f))"
      ],
      "metadata": {
        "id": "F5Q4-FIRHCrt",
        "colab": {
          "base_uri": "https://localhost:8080/"
        },
        "outputId": "39430367-1f0b-4896-d0b5-b69512159576"
      },
      "execution_count": null,
      "outputs": [
        {
          "output_type": "stream",
          "name": "stdout",
          "text": [
            "3.0 \n",
            "\n",
            "<class 'float'>\n"
          ]
        }
      ]
    },
    {
      "cell_type": "code",
      "source": [
        "x = 39\n",
        "v = \"11\"\n",
        "y = \"2.5\"\n",
        "z = \"ı'm at_\"\n",
        "\n",
        "print(x-int(v))\n",
        "print(x-float(y))\n",
        "print(z+str(x))\n"
      ],
      "metadata": {
        "colab": {
          "base_uri": "https://localhost:8080/"
        },
        "id": "J1Kn6ryGQyxh",
        "outputId": "3bffa9e4-d49f-4e40-c20b-7d62f354b3fb"
      },
      "execution_count": null,
      "outputs": [
        {
          "output_type": "stream",
          "name": "stdout",
          "text": [
            "28\n",
            "36.5\n",
            "ı'm at_39\n"
          ]
        }
      ]
    },
    {
      "cell_type": "code",
      "source": [
        "a = 36.5\n",
        "b = '30'\n",
        "c = '3.5'\n",
        "d = 'f is enough for room temperature.'\n",
        "\n",
        "print(str(a+int(b)+float(c))+d)"
      ],
      "metadata": {
        "colab": {
          "base_uri": "https://localhost:8080/"
        },
        "id": "Kf0JCe-GSrPk",
        "outputId": "eb5b600e-c90e-4ed4-fb14-93dead347a09"
      },
      "execution_count": null,
      "outputs": [
        {
          "output_type": "stream",
          "name": "stdout",
          "text": [
            "70.0f is enough for room temperature.\n"
          ]
        }
      ]
    },
    {
      "cell_type": "code",
      "source": [
        "colar = 'red' #str type variable\n",
        "season = 'summer'\n",
        "price = 250 # int type variable\n",
        "pi = 3.14 # float type variable\n",
        "color = 'blue' # You can always assing a new value to created variable\n",
        "price = 100 # value of 'price' is changed\n",
        "\n",
        "print(color, price, season, sep=', ')"
      ],
      "metadata": {
        "id": "UklWvwqAVGYU",
        "colab": {
          "base_uri": "https://localhost:8080/"
        },
        "outputId": "49b87678-1f19-4df1-bc54-6d49d1609ba0"
      },
      "execution_count": null,
      "outputs": [
        {
          "output_type": "stream",
          "name": "stdout",
          "text": [
            "blue, 100, summer\n"
          ]
        }
      ]
    },
    {
      "cell_type": "code",
      "source": [
        "print(4+11) # tam sayıların toplamı tam sayı verir"
      ],
      "metadata": {
        "colab": {
          "base_uri": "https://localhost:8080/"
        },
        "id": "MoOQx5Z1wQXy",
        "outputId": "46dd7d51-730f-49dc-bd4b-fdf6e4e5f9c5"
      },
      "execution_count": null,
      "outputs": [
        {
          "output_type": "stream",
          "name": "stdout",
          "text": [
            "15\n"
          ]
        }
      ]
    },
    {
      "cell_type": "code",
      "source": [
        "print (39+1.0) # bir tamsayı ve şamandıranın toplamı "
      ],
      "metadata": {
        "colab": {
          "base_uri": "https://localhost:8080/"
        },
        "id": "Arh93yWRxRlp",
        "outputId": "730500f6-a686-45e7-a3ed-4dc9b69cc20d"
      },
      "execution_count": null,
      "outputs": [
        {
          "output_type": "stream",
          "name": "stdout",
          "text": [
            "40.0\n"
          ]
        }
      ]
    },
    {
      "cell_type": "code",
      "source": [
        "no1 , no2 = 46 , 52\n",
        "no3 = no1 - no2\n",
        "print (no3)"
      ],
      "metadata": {
        "colab": {
          "base_uri": "https://localhost:8080/"
        },
        "id": "blLE1VdgxkEP",
        "outputId": "9e2d5c83-8a57-4581-f9cb-df0f30688d20"
      },
      "execution_count": null,
      "outputs": [
        {
          "output_type": "stream",
          "name": "stdout",
          "text": [
            "-6\n"
          ]
        }
      ]
    },
    {
      "cell_type": "code",
      "source": [
        "no1 = 46\n",
        "print (no1 / 23)\n"
      ],
      "metadata": {
        "colab": {
          "base_uri": "https://localhost:8080/"
        },
        "id": "AIXBfTikypzm",
        "outputId": "032c9f6f-1512-43aa-a85a-d87ad9d24cce"
      },
      "execution_count": null,
      "outputs": [
        {
          "output_type": "stream",
          "name": "stdout",
          "text": [
            "2.0\n"
          ]
        }
      ]
    },
    {
      "cell_type": "code",
      "source": [
        ""
      ],
      "metadata": {
        "id": "_ywXgGCJzD2F"
      },
      "execution_count": null,
      "outputs": []
    }
  ]
}