{
  "nbformat": 4,
  "nbformat_minor": 0,
  "metadata": {
    "colab": {
      "name": "free_python_12.ipynb",
      "provenance": [],
      "collapsed_sections": [],
      "authorship_tag": "ABX9TyN7XTpnMwndTwDvuV8oV6Uh",
      "include_colab_link": true
    },
    "kernelspec": {
      "name": "python3",
      "display_name": "Python 3"
    },
    "language_info": {
      "name": "python"
    }
  },
  "cells": [
    {
      "cell_type": "markdown",
      "metadata": {
        "id": "view-in-github",
        "colab_type": "text"
      },
      "source": [
        "<a href=\"https://colab.research.google.com/github/HaciYasar/PythonAssignment/blob/main/free_python_12.ipynb\" target=\"_parent\"><img src=\"https://colab.research.google.com/assets/colab-badge.svg\" alt=\"Open In Colab\"/></a>"
      ]
    },
    {
      "cell_type": "code",
      "execution_count": null,
      "metadata": {
        "colab": {
          "base_uri": "https://localhost:8080/"
        },
        "id": "R-7gPGjCgj_g",
        "outputId": "83f9ba53-a89e-4cc5-a4f5-ece514bb48c5"
      },
      "outputs": [
        {
          "output_type": "stream",
          "name": "stdout",
          "text": [
            "Celsius cinsinden sıcaklık nedir?12\n",
            "Sıcaklık 53.6 Fahrenheit\tderecedir.\n"
          ]
        }
      ],
      "source": [
        "celsius\t=\teval(input(\"Celsius cinsinden sıcaklık nedir?\"))\n",
        "fahrenheit\t=\t(9/5)\t*\tcelsius\t+\t32\n",
        "print(\"Sıcaklık\", fahrenheit, \"Fahrenheit\tderecedir.\")"
      ]
    },
    {
      "cell_type": "code",
      "source": [
        "mil = float(input(\"Mil Giriniz: \"))\n",
        "kat_sayı = 1.609344\n",
        "km = mil * kat_sayı\n",
        "print('{0} mil = {1} kilometre. '.format(mil,km))"
      ],
      "metadata": {
        "colab": {
          "base_uri": "https://localhost:8080/"
        },
        "id": "iCMRB8PnhvnC",
        "outputId": "154936f4-0dab-4d29-e7df-653e9c6a648b"
      },
      "execution_count": null,
      "outputs": [
        {
          "output_type": "stream",
          "name": "stdout",
          "text": [
            "Mil Giriniz: 90\n",
            "90.0 mil = 144.84096 kilometre. \n"
          ]
        }
      ]
    },
    {
      "cell_type": "code",
      "source": [
        ""
      ],
      "metadata": {
        "id": "MILg-EGfv2fW"
      },
      "execution_count": null,
      "outputs": []
    },
    {
      "cell_type": "code",
      "source": [
        ""
      ],
      "metadata": {
        "id": "N7fy9_dVv2cv"
      },
      "execution_count": null,
      "outputs": []
    },
    {
      "cell_type": "code",
      "source": [
        ""
      ],
      "metadata": {
        "id": "-rZwWCsgowNQ"
      },
      "execution_count": null,
      "outputs": []
    }
  ]
}