{
  "nbformat": 4,
  "nbformat_minor": 0,
  "metadata": {
    "colab": {
      "name": "free_python_4.ipynb.ipynb",
      "provenance": [],
      "authorship_tag": "ABX9TyMvSmhMAMOPHtI3CmBdVUOj",
      "include_colab_link": true
    },
    "kernelspec": {
      "name": "python3",
      "display_name": "Python 3"
    },
    "language_info": {
      "name": "python"
    }
  },
  "cells": [
    {
      "cell_type": "markdown",
      "metadata": {
        "id": "view-in-github",
        "colab_type": "text"
      },
      "source": [
        "<a href=\"https://colab.research.google.com/github/HaciYasar/PythonAssignment/blob/main/free_python_4_ipynb.ipynb\" target=\"_parent\"><img src=\"https://colab.research.google.com/assets/colab-badge.svg\" alt=\"Open In Colab\"/></a>"
      ]
    },
    {
      "cell_type": "code",
      "execution_count": null,
      "metadata": {
        "colab": {
          "base_uri": "https://localhost:8080/"
        },
        "id": "REBKQiZ1QzBq",
        "outputId": "ea0b1160-bde9-42df-9fe3-3bec610da63d"
      },
      "outputs": [
        {
          "output_type": "stream",
          "name": "stdout",
          "text": [
            "True\n"
          ]
        }
      ],
      "source": [
        "a = \"write me\" and (not 0)\n",
        "print(a)"
      ]
    },
    {
      "cell_type": "code",
      "source": [
        "print (0  or a and not 0 and \"write me\")"
      ],
      "metadata": {
        "colab": {
          "base_uri": "https://localhost:8080/"
        },
        "id": "ALp4O2-5RlF_",
        "outputId": "ef7be746-f294-4851-e393-f03bd8613b94"
      },
      "execution_count": null,
      "outputs": [
        {
          "output_type": "stream",
          "name": "stdout",
          "text": [
            "write me\n"
          ]
        }
      ]
    },
    {
      "cell_type": "code",
      "source": [
        "year=int(input(\"enter a year to check like 1977 (4-digit)\"))\n",
        "leap_year=year%4==0 and year%100!=0 or year%400==0 and \"is a leep year\" or \"is not a leep year\"\n",
        "print(leap_year) "
      ],
      "metadata": {
        "colab": {
          "base_uri": "https://localhost:8080/"
        },
        "id": "gUc_FtcCTECq",
        "outputId": "d7b78bd1-9910-44f2-9f64-186e0202e63e"
      },
      "execution_count": null,
      "outputs": [
        {
          "output_type": "stream",
          "name": "stdout",
          "text": [
            "enter a year to check like 1977 (4-digit)4\n",
            "True\n"
          ]
        }
      ]
    },
    {
      "cell_type": "code",
      "source": [
        "maliyet = 31.87\n",
        "satış_değeri = 85.82\n",
        "envanter = 1000"
      ],
      "metadata": {
        "id": "H72_KkxrVoID"
      },
      "execution_count": null,
      "outputs": []
    },
    {
      "cell_type": "code",
      "source": [
        "profit=round(envanter*(maliyet-satış_değeri))\n",
        "profit"
      ],
      "metadata": {
        "colab": {
          "base_uri": "https://localhost:8080/"
        },
        "id": "yhOfuxJJZvnZ",
        "outputId": "cea2923c-08fa-4ea9-c535-1dd453f88526"
      },
      "execution_count": null,
      "outputs": [
        {
          "output_type": "execute_result",
          "data": {
            "text/plain": [
              "-53950"
            ]
          },
          "metadata": {},
          "execution_count": 19
        }
      ]
    },
    {
      "cell_type": "code",
      "source": [
        "money=float(input(\"Enter the amount of money: \"))\n",
        "output=\"${:.2f}\".format(money)\n",
        "print(output)"
      ],
      "metadata": {
        "id": "7HOUYs8haATR",
        "colab": {
          "base_uri": "https://localhost:8080/"
        },
        "outputId": "bce1c2ca-0447-44fa-b9d8-65c68f440e12"
      },
      "execution_count": null,
      "outputs": [
        {
          "output_type": "stream",
          "name": "stdout",
          "text": [
            "Enter the amount of money: 5\n",
            "$5.00\n"
          ]
        }
      ]
    },
    {
      "cell_type": "code",
      "source": [
        ""
      ],
      "metadata": {
        "id": "M3UrUtt2c-NS"
      },
      "execution_count": null,
      "outputs": []
    }
  ]
}