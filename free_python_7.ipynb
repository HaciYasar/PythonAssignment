{
  "nbformat": 4,
  "nbformat_minor": 0,
  "metadata": {
    "colab": {
      "name": "free_python_7.ipynb",
      "provenance": [],
      "collapsed_sections": [],
      "authorship_tag": "ABX9TyO08vC8FqV7NtQf22gbSlGU",
      "include_colab_link": true
    },
    "kernelspec": {
      "name": "python3",
      "display_name": "Python 3"
    },
    "language_info": {
      "name": "python"
    }
  },
  "cells": [
    {
      "cell_type": "markdown",
      "metadata": {
        "id": "view-in-github",
        "colab_type": "text"
      },
      "source": [
        "<a href=\"https://colab.research.google.com/github/HaciYasar/PythonAssignment/blob/main/free_python_7.ipynb\" target=\"_parent\"><img src=\"https://colab.research.google.com/assets/colab-badge.svg\" alt=\"Open In Colab\"/></a>"
      ]
    },
    {
      "cell_type": "code",
      "execution_count": null,
      "metadata": {
        "id": "v5WUcbRnQeyC"
      },
      "outputs": [],
      "source": [
        "name = \"Hacı\" #String\n",
        "age = 35 # int\n",
        "pi = 3.14 # float\n",
        "is_true = True # False boo(lean)\n",
        "jop = \"Security\""
      ]
    },
    {
      "cell_type": "code",
      "source": [
        "print(name)  # print Metotdur"
      ],
      "metadata": {
        "colab": {
          "base_uri": "https://localhost:8080/"
        },
        "id": "5Dg_rNjKQ4dD",
        "outputId": "191bda60-b0f1-4279-ba04-375a39eaa1e5"
      },
      "execution_count": null,
      "outputs": [
        {
          "output_type": "stream",
          "name": "stdout",
          "text": [
            "Hacı\n"
          ]
        }
      ]
    },
    {
      "cell_type": "code",
      "source": [
        "print(\"Aylardan şubat\")\n",
        "print(\"Aylardan şubat\")\n",
        "print(\"Aylardan şubat\")\n",
        "print(\"Aylardan şubat\") #hepsi tek tek değiştirilmez. değişken atanarak komut değiştirilir."
      ],
      "metadata": {
        "colab": {
          "base_uri": "https://localhost:8080/"
        },
        "id": "35gQfHohROei",
        "outputId": "92f69159-b1de-4802-c7e7-2b742b48d3f2"
      },
      "execution_count": null,
      "outputs": [
        {
          "output_type": "stream",
          "name": "stdout",
          "text": [
            "Aylardan şubat\n",
            "Aylardan şubat\n",
            "Aylardan şubat\n",
            "Aylardan şubat\n"
          ]
        }
      ]
    },
    {
      "cell_type": "markdown",
      "source": [
        "Basit string değerleri"
      ],
      "metadata": {
        "id": "P9BcixBpSbOd"
      }
    },
    {
      "cell_type": "code",
      "source": [
        "print(\"Hello my name is {} \".format(name)) # Strinmg formatlama yöntemi."
      ],
      "metadata": {
        "colab": {
          "base_uri": "https://localhost:8080/"
        },
        "id": "eTngpncRSanb",
        "outputId": "1dda756e-5bca-46a9-9e99-ecb3be5436b9"
      },
      "execution_count": null,
      "outputs": [
        {
          "output_type": "stream",
          "name": "stdout",
          "text": [
            "Hello my name is Hacı \n"
          ]
        }
      ]
    },
    {
      "cell_type": "code",
      "source": [
        "text = \"Hello my name is {} \".format(name)"
      ],
      "metadata": {
        "id": "mUAKHcbeSak8"
      },
      "execution_count": null,
      "outputs": []
    },
    {
      "cell_type": "code",
      "source": [
        "print(text)"
      ],
      "metadata": {
        "colab": {
          "base_uri": "https://localhost:8080/"
        },
        "id": "te6hZ8YmSaip",
        "outputId": "c7c12e34-40ab-4942-99bf-ea58152c1208"
      },
      "execution_count": null,
      "outputs": [
        {
          "output_type": "stream",
          "name": "stdout",
          "text": [
            "Hello my name is Hacı \n"
          ]
        }
      ]
    },
    {
      "cell_type": "code",
      "source": [
        "text1 = f\"Hello ı'm {name}, and I'm a {jop}. I'm {age} years old\" # YUkarıdaki atamanın bir diğer ataması\n",
        "print(text1)  # En çok kullanılan yöntem budur."
      ],
      "metadata": {
        "colab": {
          "base_uri": "https://localhost:8080/"
        },
        "id": "wzD1uM97TX9f",
        "outputId": "85ee76d1-2a97-401e-a950-981eb6470e5e"
      },
      "execution_count": null,
      "outputs": [
        {
          "output_type": "stream",
          "name": "stdout",
          "text": [
            "Hello ı'm Hacı, and I'm a Security. I'm 35 years old\n"
          ]
        }
      ]
    },
    {
      "cell_type": "code",
      "source": [
        "text2 = \"Hello ı'm {}, and I'm a {}. I'm {} years old\".format(name, jop, age)\n",
        "print(text2)  # yazdığımız parametleri sıraya göre atar"
      ],
      "metadata": {
        "colab": {
          "base_uri": "https://localhost:8080/"
        },
        "id": "6xuu1klyUGb-",
        "outputId": "212bde76-00c8-4f45-ae47-e44be18855f9"
      },
      "execution_count": null,
      "outputs": [
        {
          "output_type": "stream",
          "name": "stdout",
          "text": [
            "Hello ı'm Hacı, and I'm a Security. I'm 35 years old\n"
          ]
        }
      ]
    },
    {
      "cell_type": "code",
      "source": [
        "print(text.startswith(\"Hello\")) #Metin içerisinde sorgulama yapar. true yada false verir."
      ],
      "metadata": {
        "colab": {
          "base_uri": "https://localhost:8080/"
        },
        "id": "vMX68HcGUpbB",
        "outputId": "898dee64-4e19-4de9-bb09-c132ac8777dd"
      },
      "execution_count": null,
      "outputs": [
        {
          "output_type": "stream",
          "name": "stdout",
          "text": [
            "True\n"
          ]
        }
      ]
    },
    {
      "cell_type": "code",
      "source": [
        "print(text.upper()) # Büyük harfe çevirir."
      ],
      "metadata": {
        "colab": {
          "base_uri": "https://localhost:8080/"
        },
        "id": "FlgZI8PzWNvG",
        "outputId": "417dd9eb-788c-4953-a2b4-b8eb7a445678"
      },
      "execution_count": null,
      "outputs": [
        {
          "output_type": "stream",
          "name": "stdout",
          "text": [
            "HELLO MY NAME IS HACI \n"
          ]
        }
      ]
    },
    {
      "cell_type": "code",
      "source": [
        "print(text.replace(\"y\",\"z\")) # Belirtilen harfi değiştirir. tek kullanımlıktır."
      ],
      "metadata": {
        "colab": {
          "base_uri": "https://localhost:8080/"
        },
        "id": "XZ37GkGpWgm_",
        "outputId": "ff796f4d-ab39-4ecf-e43b-67dd86a02b7a"
      },
      "execution_count": null,
      "outputs": [
        {
          "output_type": "stream",
          "name": "stdout",
          "text": [
            "Hello mz name is Hacı \n"
          ]
        }
      ]
    },
    {
      "cell_type": "code",
      "source": [
        "print(text.title()) # Kelimelerin baş harflerini değiştirir."
      ],
      "metadata": {
        "colab": {
          "base_uri": "https://localhost:8080/"
        },
        "id": "tI2Zkn5WWr2e",
        "outputId": "81d389e1-ce4a-4502-90df-07116ed93049"
      },
      "execution_count": null,
      "outputs": [
        {
          "output_type": "stream",
          "name": "stdout",
          "text": [
            "Hello My Name Is Hacı \n"
          ]
        }
      ]
    },
    {
      "cell_type": "code",
      "source": [
        "print(text.index(\"o\"))  # İndex numarasını gösterir."
      ],
      "metadata": {
        "colab": {
          "base_uri": "https://localhost:8080/"
        },
        "id": "QE96fmHTW5w2",
        "outputId": "354f5f3d-7a97-49e5-e630-1baa9c25f7e8"
      },
      "execution_count": null,
      "outputs": [
        {
          "output_type": "stream",
          "name": "stdout",
          "text": [
            "4\n"
          ]
        }
      ]
    },
    {
      "cell_type": "markdown",
      "source": [
        "İnteger İfadeler"
      ],
      "metadata": {
        "id": "9rw3EpLobhDt"
      }
    },
    {
      "cell_type": "code",
      "source": [
        "sayi = 24\n",
        "sayi1 = 23\n",
        "num = sayi / sayi1  # Pythonda bölme işlemi float sonuç verir.  // Kalan sonuç verir.\n",
        "print(num)"
      ],
      "metadata": {
        "colab": {
          "base_uri": "https://localhost:8080/"
        },
        "id": "MGY8XcWWXJQ1",
        "outputId": "eb9b840d-f8d7-49cb-cbc9-062b0242d9c6"
      },
      "execution_count": null,
      "outputs": [
        {
          "output_type": "stream",
          "name": "stdout",
          "text": [
            "1.0434782608695652\n"
          ]
        }
      ]
    },
    {
      "cell_type": "code",
      "source": [
        "# round fonksiyonu yuvarlama yapar. En yakın çift sayıyada yuvarlama yapar."
      ],
      "metadata": {
        "id": "xWG7-q87XkVK"
      },
      "execution_count": null,
      "outputs": []
    },
    {
      "cell_type": "markdown",
      "source": [
        "İnput fonksiyonu."
      ],
      "metadata": {
        "id": "0z3asJtse_oL"
      }
    },
    {
      "cell_type": "code",
      "source": [
        "input = int(input(\"Enter a number: \")) # İnput fonksiyonu kullanıcıdan değer ister.\n",
        "# input istenilen değeri ister. Metodları çalıştırabiliriz."
      ],
      "metadata": {
        "colab": {
          "base_uri": "https://localhost:8080/"
        },
        "id": "6bvFCN1rXkSj",
        "outputId": "f7bc7d4b-c57a-443f-8f94-2b3b03c202cf"
      },
      "execution_count": null,
      "outputs": [
        {
          "name": "stdout",
          "output_type": "stream",
          "text": [
            "Enter a number: 12\n"
          ]
        }
      ]
    },
    {
      "cell_type": "markdown",
      "source": [
        "Listeler."
      ],
      "metadata": {
        "id": "Pz4XYkUogc4P"
      }
    },
    {
      "cell_type": "code",
      "source": [
        "listem = [1234, \"Ali\", 34.56, True] # Listeler string, integer, float ve boolean değer alabilir."
      ],
      "metadata": {
        "id": "MWC65yEtXkQR"
      },
      "execution_count": null,
      "outputs": []
    },
    {
      "cell_type": "code",
      "source": [
        "listem  # Parantez içerisinde değişken isimleri ile çalışma yapılabilir."
      ],
      "metadata": {
        "colab": {
          "base_uri": "https://localhost:8080/"
        },
        "id": "3n4lUxK1cDTX",
        "outputId": "3767cdf8-137e-43ec-f314-45a7d199157c"
      },
      "execution_count": null,
      "outputs": [
        {
          "output_type": "execute_result",
          "data": {
            "text/plain": [
              "[1234, 'Ali', 34.56, True]"
            ]
          },
          "metadata": {},
          "execution_count": 21
        }
      ]
    },
    {
      "cell_type": "code",
      "source": [
        "print(list(\"Hacı\")) # İterable değerleri listeye çevirebilir."
      ],
      "metadata": {
        "colab": {
          "base_uri": "https://localhost:8080/"
        },
        "id": "FY83u04PcDJd",
        "outputId": "246fb0c2-50d7-46e6-b0c7-b49f3f48396e"
      },
      "execution_count": null,
      "outputs": [
        {
          "output_type": "stream",
          "name": "stdout",
          "text": [
            "['H', 'a', 'c', 'ı']\n"
          ]
        }
      ]
    },
    {
      "cell_type": "code",
      "source": [
        "print(listem) # İndexleme yapılabilir."
      ],
      "metadata": {
        "colab": {
          "base_uri": "https://localhost:8080/"
        },
        "id": "dHz2HN94hWF1",
        "outputId": "fa3a7871-a2e0-419b-84df-b3ad5d1c26ec"
      },
      "execution_count": null,
      "outputs": [
        {
          "output_type": "stream",
          "name": "stdout",
          "text": [
            "[1234, 'Ali', 34.56, True]\n"
          ]
        }
      ]
    },
    {
      "cell_type": "code",
      "source": [
        "print(listem1)    #extend fonksiyonuyla diğer listeyi ekleyebiliriz. Append bir eleman ekler sona."
      ],
      "metadata": {
        "colab": {
          "base_uri": "https://localhost:8080/"
        },
        "id": "5F6vhE3JiS-K",
        "outputId": "2ee693e7-a4cf-498d-ed16-f29e43cdb21d"
      },
      "execution_count": null,
      "outputs": [
        {
          "output_type": "stream",
          "name": "stdout",
          "text": [
            "[43, 23, 11, 6, 1234, 'Ali', 34.56, True]\n"
          ]
        }
      ]
    },
    {
      "cell_type": "code",
      "source": [
        "listem1.insert(2, \"kaynak\")   # Örnek insert ile indexleme yaparak ekleme yapabiliriz.\n",
        "print(listem1)"
      ],
      "metadata": {
        "colab": {
          "base_uri": "https://localhost:8080/"
        },
        "id": "yqgXxpcWigEg",
        "outputId": "957d5731-8531-4b9f-bf6f-c2d734e624e6"
      },
      "execution_count": null,
      "outputs": [
        {
          "output_type": "stream",
          "name": "stdout",
          "text": [
            "[43, 23, 'kaynak', 'kaynak', 11, 6, 1234, 'Ali', 34.56, True]\n"
          ]
        }
      ]
    },
    {
      "cell_type": "code",
      "source": [
        "listem1.remove('kaynak')  # Hangi elemanı verirseniz onu siler. ilk gördüğü elemanı siler.\n",
        "print(listem1)    #Clear listeyi siler."
      ],
      "metadata": {
        "colab": {
          "base_uri": "https://localhost:8080/"
        },
        "id": "AGrBwa25jeWg",
        "outputId": "2b097c92-6cca-4aa3-afa5-4a692c279d64"
      },
      "execution_count": null,
      "outputs": [
        {
          "output_type": "stream",
          "name": "stdout",
          "text": [
            "[23, 'kaynak', 11, 6, 1234, 'Ali', 34.56, True]\n"
          ]
        }
      ]
    },
    {
      "cell_type": "code",
      "source": [
        "listem1.pop()   # pop metodu indexleme yapılazsa listenin son elemanını siler."
      ],
      "metadata": {
        "colab": {
          "base_uri": "https://localhost:8080/"
        },
        "id": "Z7shS42vkIqY",
        "outputId": "83a4f6ab-de9e-4ec5-9733-9c946a7edf7f"
      },
      "execution_count": null,
      "outputs": [
        {
          "output_type": "execute_result",
          "data": {
            "text/plain": [
              "True"
            ]
          },
          "metadata": {},
          "execution_count": 33
        }
      ]
    },
    {
      "cell_type": "code",
      "source": [
        "listem1"
      ],
      "metadata": {
        "colab": {
          "base_uri": "https://localhost:8080/"
        },
        "id": "th-LT_-zlcIX",
        "outputId": "21be7572-3fbd-432d-d881-b29b29cffda4"
      },
      "execution_count": null,
      "outputs": [
        {
          "output_type": "execute_result",
          "data": {
            "text/plain": [
              "[23, 'kaynak', 11, 6, 1234, 'Ali', 34.56]"
            ]
          },
          "metadata": {},
          "execution_count": 34
        }
      ]
    },
    {
      "cell_type": "code",
      "source": [
        "listem1"
      ],
      "metadata": {
        "colab": {
          "base_uri": "https://localhost:8080/"
        },
        "id": "9iFDvzCclcFo",
        "outputId": "ccd0dbf2-98b0-424f-cf95-6337fba395c0"
      },
      "execution_count": null,
      "outputs": [
        {
          "output_type": "execute_result",
          "data": {
            "text/plain": [
              "[23, 'kaynak', 11, 6, 1234, 'Ali', 34.56]"
            ]
          },
          "metadata": {},
          "execution_count": 35
        }
      ]
    },
    {
      "cell_type": "code",
      "source": [
        "listem1.count(\"Ali\")    # count fonksiyonu liste içerisindeki eleman sayısının çıktısını verir."
      ],
      "metadata": {
        "colab": {
          "base_uri": "https://localhost:8080/"
        },
        "id": "Dn1fVMaHmDvb",
        "outputId": "81ae045f-b559-410e-e31b-29fb249ff87e"
      },
      "execution_count": null,
      "outputs": [
        {
          "output_type": "execute_result",
          "data": {
            "text/plain": [
              "1"
            ]
          },
          "metadata": {},
          "execution_count": 43
        }
      ]
    },
    {
      "cell_type": "code",
      "source": [
        "count1 = listem1.count(6) # Count metodu değişkene atama yaparak hafızada tutar."
      ],
      "metadata": {
        "id": "uTDzmATfmGap"
      },
      "execution_count": null,
      "outputs": []
    },
    {
      "cell_type": "code",
      "source": [
        "listem1"
      ],
      "metadata": {
        "colab": {
          "base_uri": "https://localhost:8080/"
        },
        "id": "h6nZrQeknRef",
        "outputId": "1bd999f7-d2e8-4a32-9dee-6b0ac23407e4"
      },
      "execution_count": null,
      "outputs": [
        {
          "output_type": "execute_result",
          "data": {
            "text/plain": [
              "[23, 'kaynak', 11, 6, 1234, 'Ali', 34.56]"
            ]
          },
          "metadata": {},
          "execution_count": 45
        }
      ]
    },
    {
      "cell_type": "code",
      "source": [
        "count1"
      ],
      "metadata": {
        "colab": {
          "base_uri": "https://localhost:8080/"
        },
        "id": "zH_OOyFUnT49",
        "outputId": "c720718b-b3ca-482e-a830-32d14d3975f3"
      },
      "execution_count": null,
      "outputs": [
        {
          "output_type": "execute_result",
          "data": {
            "text/plain": [
              "1"
            ]
          },
          "metadata": {},
          "execution_count": 46
        }
      ]
    },
    {
      "cell_type": "code",
      "source": [
        "listeler = [1, 2, 3, 1, 4, 5, 6, 1].count(1)  # Örnek count metodu.\n",
        "listeler"
      ],
      "metadata": {
        "colab": {
          "base_uri": "https://localhost:8080/"
        },
        "id": "HBd3TOxTnVJV",
        "outputId": "c7570632-7152-43f4-ef81-f1ec0efe39ec"
      },
      "execution_count": null,
      "outputs": [
        {
          "output_type": "execute_result",
          "data": {
            "text/plain": [
              "3"
            ]
          },
          "metadata": {},
          "execution_count": 50
        }
      ]
    },
    {
      "cell_type": "code",
      "source": [
        "print(len(listem1))   # Eleman sayısını verir. indexleme sıfırdan başlar. İterable elemları alır."
      ],
      "metadata": {
        "colab": {
          "base_uri": "https://localhost:8080/"
        },
        "id": "f7lIur6IoBZG",
        "outputId": "41a8bf68-c453-4865-dd04-a7b1a8fd143d"
      },
      "execution_count": null,
      "outputs": [
        {
          "output_type": "stream",
          "name": "stdout",
          "text": [
            "7\n"
          ]
        }
      ]
    },
    {
      "cell_type": "code",
      "source": [
        ""
      ],
      "metadata": {
        "id": "DVOFMAJRpTQe"
      },
      "execution_count": null,
      "outputs": []
    },
    {
      "cell_type": "code",
      "source": [
        ""
      ],
      "metadata": {
        "id": "DZ4v6veNpTM3"
      },
      "execution_count": null,
      "outputs": []
    }
  ]
}