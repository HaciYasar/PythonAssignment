{
  "nbformat": 4,
  "nbformat_minor": 0,
  "metadata": {
    "colab": {
      "name": "free_python_16.ipynb",
      "provenance": [],
      "collapsed_sections": [],
      "authorship_tag": "ABX9TyPH6Kpnl/YXHdokAUpy3kgw",
      "include_colab_link": true
    },
    "kernelspec": {
      "name": "python3",
      "display_name": "Python 3"
    },
    "language_info": {
      "name": "python"
    }
  },
  "cells": [
    {
      "cell_type": "markdown",
      "metadata": {
        "id": "view-in-github",
        "colab_type": "text"
      },
      "source": [
        "<a href=\"https://colab.research.google.com/github/HaciYasar/PythonAssignment/blob/main/free_python_16.ipynb\" target=\"_parent\"><img src=\"https://colab.research.google.com/assets/colab-badge.svg\" alt=\"Open In Colab\"/></a>"
      ]
    },
    {
      "cell_type": "code",
      "source": [
        "listA = [\"susan\", \"tom\", False, 0, 22]"
      ],
      "metadata": {
        "id": "m_QiAKllDnH6"
      },
      "execution_count": null,
      "outputs": []
    },
    {
      "cell_type": "code",
      "source": [
        "filtered_list = filter(None, listA)"
      ],
      "metadata": {
        "id": "cY7KW3GQF4AZ"
      },
      "execution_count": null,
      "outputs": []
    },
    {
      "cell_type": "code",
      "source": [
        "filtered_list"
      ],
      "metadata": {
        "colab": {
          "base_uri": "https://localhost:8080/"
        },
        "id": "WbcygwRBF39H",
        "outputId": "84b22993-5899-414d-b1b2-5840a2b77bb4"
      },
      "execution_count": null,
      "outputs": [
        {
          "output_type": "execute_result",
          "data": {
            "text/plain": [
              "<filter at 0x7feb090f1250>"
            ]
          },
          "metadata": {},
          "execution_count": 8
        }
      ]
    },
    {
      "cell_type": "code",
      "source": [
        "print(\"The Filtered elements are :\")\n",
        "for i in filtered_list:\n",
        "  filtered_list.filter\n",
        "  print(i)"
      ],
      "metadata": {
        "colab": {
          "base_uri": "https://localhost:8080/"
        },
        "id": "RNHaOwIwGSUJ",
        "outputId": "8ecd6ef6-a652-4e43-95d8-380f6cc9cf44"
      },
      "execution_count": null,
      "outputs": [
        {
          "output_type": "stream",
          "name": "stdout",
          "text": [
            "The Filtered elements are :\n"
          ]
        }
      ]
    },
    {
      "cell_type": "code",
      "source": [
        "min(\"ahmet\")"
      ],
      "metadata": {
        "colab": {
          "base_uri": "https://localhost:8080/",
          "height": 35
        },
        "id": "3JcsWuCQGdWA",
        "outputId": "3d3917f3-bcf7-42f2-b289-6d8980521726"
      },
      "execution_count": null,
      "outputs": [
        {
          "output_type": "execute_result",
          "data": {
            "application/vnd.google.colaboratory.intrinsic+json": {
              "type": "string"
            },
            "text/plain": [
              "'a'"
            ]
          },
          "metadata": {},
          "execution_count": 15
        }
      ]
    },
    {
      "cell_type": "code",
      "source": [
        "max(\"ahmet\")"
      ],
      "metadata": {
        "colab": {
          "base_uri": "https://localhost:8080/",
          "height": 35
        },
        "id": "TEgrHPMEIi8W",
        "outputId": "4782b94b-9c1e-4a8c-d261-679bd545a829"
      },
      "execution_count": null,
      "outputs": [
        {
          "output_type": "execute_result",
          "data": {
            "application/vnd.google.colaboratory.intrinsic+json": {
              "type": "string"
            },
            "text/plain": [
              "'t'"
            ]
          },
          "metadata": {},
          "execution_count": 19
        }
      ]
    },
    {
      "cell_type": "code",
      "source": [
        "def ilk_fonksiyonum(x, y) :\n",
        "    print(x ** 2 + y ** 2)"
      ],
      "metadata": {
        "id": "zcr473jSJraK"
      },
      "execution_count": null,
      "outputs": []
    },
    {
      "cell_type": "code",
      "source": [
        "ilk_fonksiyonum(3, 4)"
      ],
      "metadata": {
        "colab": {
          "base_uri": "https://localhost:8080/"
        },
        "id": "vQQwyxOpOrqE",
        "outputId": "1cf08413-0197-432b-d9ed-9afe13f4df24"
      },
      "execution_count": null,
      "outputs": [
        {
          "output_type": "stream",
          "name": "stdout",
          "text": [
            "25\n"
          ]
        }
      ]
    },
    {
      "cell_type": "code",
      "source": [
        "def hiponetus(a, b) :\n",
        "    print((a ** 2 + b ** 2) ** 0.5)"
      ],
      "metadata": {
        "id": "Tw1OtRlCOvSR"
      },
      "execution_count": null,
      "outputs": []
    },
    {
      "cell_type": "code",
      "source": [
        "hiponetus(3, 4)"
      ],
      "metadata": {
        "colab": {
          "base_uri": "https://localhost:8080/"
        },
        "id": "wC7q2oYRPpLB",
        "outputId": "897e9f31-991d-44f0-f7e1-33c06183488b"
      },
      "execution_count": null,
      "outputs": [
        {
          "output_type": "stream",
          "name": "stdout",
          "text": [
            "5.0\n"
          ]
        }
      ]
    },
    {
      "cell_type": "code",
      "source": [
        "def rumi() :\n",
        "  print(\"\"\"Ay vurmuyorsa yüzüne, güneş vurmuyorsa pencerene kabahati ne Ay'da ne Güneş'te ara. Gözlerindeki perdeyi arala.\n",
        "  \"\"\")"
      ],
      "metadata": {
        "id": "vaqiLJZLP28a"
      },
      "execution_count": null,
      "outputs": []
    },
    {
      "cell_type": "code",
      "source": [
        "rumi()"
      ],
      "metadata": {
        "colab": {
          "base_uri": "https://localhost:8080/"
        },
        "id": "oNTEAYXBRafi",
        "outputId": "d3879a73-155b-4bf0-bd13-5f366da7d120"
      },
      "execution_count": null,
      "outputs": [
        {
          "output_type": "stream",
          "name": "stdout",
          "text": [
            "Ay vurmuyorsa yüzüne, güneş vurmuyorsa pencerene kabahati ne Ay'da ne Güneş'te ara. Gözlerindeki perdeyi arala.\n",
            "  \n"
          ]
        }
      ]
    },
    {
      "cell_type": "code",
      "source": [
        "def calculator(x, y, opr) :\n",
        "    if opr == \"+\" :\n",
        "        print(x + y)\n",
        "        \n",
        "    elif opr == \"-\" :\n",
        "        print(x - y)\n",
        "        \n",
        "    elif opr == \"*\" :\n",
        "        print(x * y)\n",
        "        \n",
        "    elif opr == \"/\" :\n",
        "        print(x / y)\n",
        "        \n",
        "    else :\n",
        "        print(\"Enter a valid operator.\")"
      ],
      "metadata": {
        "id": "uahjlwRAUYvI"
      },
      "execution_count": null,
      "outputs": []
    },
    {
      "cell_type": "code",
      "source": [
        "def topla(x, y) :\n",
        "  return x + y"
      ],
      "metadata": {
        "id": "S721LL_nVXXF"
      },
      "execution_count": null,
      "outputs": []
    },
    {
      "cell_type": "code",
      "source": [
        "type(topla(3, 5))"
      ],
      "metadata": {
        "colab": {
          "base_uri": "https://localhost:8080/"
        },
        "id": "WuLospINV06-",
        "outputId": "04b14a07-d7ea-48a0-ef92-1bed152f8431"
      },
      "execution_count": null,
      "outputs": [
        {
          "output_type": "execute_result",
          "data": {
            "text/plain": [
              "int"
            ]
          },
          "metadata": {},
          "execution_count": 50
        }
      ]
    },
    {
      "cell_type": "code",
      "source": [
        "def string() :\n",
        "  return \"alideliveli\""
      ],
      "metadata": {
        "id": "8kKXZBxrWFBV"
      },
      "execution_count": null,
      "outputs": []
    },
    {
      "cell_type": "code",
      "source": [
        "string()"
      ],
      "metadata": {
        "colab": {
          "base_uri": "https://localhost:8080/",
          "height": 35
        },
        "id": "QDezQegDWVsE",
        "outputId": "3da105b5-07f3-45d9-b7a5-f5f20fb33275"
      },
      "execution_count": null,
      "outputs": [
        {
          "output_type": "execute_result",
          "data": {
            "application/vnd.google.colaboratory.intrinsic+json": {
              "type": "string"
            },
            "text/plain": [
              "'alideliveli'"
            ]
          },
          "metadata": {},
          "execution_count": 53
        }
      ]
    },
    {
      "cell_type": "code",
      "source": [
        "print(* string())"
      ],
      "metadata": {
        "colab": {
          "base_uri": "https://localhost:8080/"
        },
        "id": "LEqeehVeWYkz",
        "outputId": "dca3cd11-b548-4cba-82e9-eec0b09ced20"
      },
      "execution_count": null,
      "outputs": [
        {
          "output_type": "stream",
          "name": "stdout",
          "text": [
            "a l i d e l i v e l i\n"
          ]
        }
      ]
    },
    {
      "cell_type": "code",
      "source": [
        "def integer() :\n",
        "  return 22"
      ],
      "metadata": {
        "id": "1_uv4TA1W2d5"
      },
      "execution_count": null,
      "outputs": []
    },
    {
      "cell_type": "code",
      "source": [
        "integer()"
      ],
      "metadata": {
        "colab": {
          "base_uri": "https://localhost:8080/"
        },
        "id": "asF8mR6eW4Uk",
        "outputId": "0ed92855-5635-42ce-bf9b-fa8be56b1a5a"
      },
      "execution_count": null,
      "outputs": [
        {
          "output_type": "execute_result",
          "data": {
            "text/plain": [
              "22"
            ]
          },
          "metadata": {},
          "execution_count": 56
        }
      ]
    },
    {
      "cell_type": "code",
      "source": [
        "def bool() :\n",
        "  return True"
      ],
      "metadata": {
        "id": "rpHiuoB9W4R2"
      },
      "execution_count": null,
      "outputs": []
    },
    {
      "cell_type": "code",
      "source": [
        "bool()"
      ],
      "metadata": {
        "colab": {
          "base_uri": "https://localhost:8080/"
        },
        "id": "hIkEHe9vXN35",
        "outputId": "e5a8d2d9-7d92-45e1-b987-5a7a660f3786"
      },
      "execution_count": null,
      "outputs": [
        {
          "output_type": "execute_result",
          "data": {
            "text/plain": [
              "True"
            ]
          },
          "metadata": {},
          "execution_count": 58
        }
      ]
    },
    {
      "cell_type": "code",
      "source": [
        "x = bool()"
      ],
      "metadata": {
        "id": "42zPP__7XQhA"
      },
      "execution_count": null,
      "outputs": []
    },
    {
      "cell_type": "code",
      "source": [
        "print(x)"
      ],
      "metadata": {
        "colab": {
          "base_uri": "https://localhost:8080/"
        },
        "id": "axjvQs9vdJiu",
        "outputId": "baa94fe7-6b91-435a-a235-8f1b4306d441"
      },
      "execution_count": null,
      "outputs": [
        {
          "output_type": "stream",
          "name": "stdout",
          "text": [
            "True\n"
          ]
        }
      ]
    },
    {
      "cell_type": "code",
      "source": [
        "def calculator(x, y, opr) :\n",
        "    if opr == \"+\" :\n",
        "        return(x + y)\n",
        "        \n",
        "    elif opr == \"-\" :\n",
        "        return(x - y)\n",
        "        \n",
        "    elif opr == \"*\" :\n",
        "        return(x * y)\n",
        "        \n",
        "    elif opr == \"/\" :\n",
        "        return(x / y)\n",
        "        \n",
        "    else :\n",
        "        return(\"Enter a valid operator.\")"
      ],
      "metadata": {
        "id": "o72P_wlsdLUv"
      },
      "execution_count": null,
      "outputs": []
    },
    {
      "cell_type": "code",
      "source": [
        "sonuç = calculator(3, 5, \"+\")"
      ],
      "metadata": {
        "id": "8U04ih11do5C"
      },
      "execution_count": null,
      "outputs": []
    },
    {
      "cell_type": "code",
      "source": [
        "sonuç"
      ],
      "metadata": {
        "colab": {
          "base_uri": "https://localhost:8080/"
        },
        "id": "isA0XEVsdvic",
        "outputId": "d48d6664-4665-4d32-c2ea-142b9f7e5da9"
      },
      "execution_count": null,
      "outputs": [
        {
          "output_type": "execute_result",
          "data": {
            "text/plain": [
              "8"
            ]
          },
          "metadata": {},
          "execution_count": 63
        }
      ]
    },
    {
      "cell_type": "code",
      "source": [
        "a = -22\n",
        "-a"
      ],
      "metadata": {
        "colab": {
          "base_uri": "https://localhost:8080/"
        },
        "id": "lWYUi0g5dwY9",
        "outputId": "859dbaf5-cf68-4c49-85ba-e043e9146fd8"
      },
      "execution_count": null,
      "outputs": [
        {
          "output_type": "execute_result",
          "data": {
            "text/plain": [
              "22"
            ]
          },
          "metadata": {},
          "execution_count": 72
        }
      ]
    },
    {
      "cell_type": "code",
      "source": [
        "x= \"i\"\n",
        "y=\"love\"\n",
        "z=\"you\"\n",
        "\n",
        "def texter(x,y,z) :\n",
        "    print(y,z,x,)\n",
        "\n",
        "texter(c,a,b)"
      ],
      "metadata": {
        "colab": {
          "base_uri": "https://localhost:8080/"
        },
        "id": "mBadQ_PmgXC_",
        "outputId": "afd30e2e-44fc-40b4-ef56-37b921f094cf"
      },
      "execution_count": null,
      "outputs": [
        {
          "output_type": "stream",
          "name": "stdout",
          "text": [
            "i love you\n"
          ]
        }
      ]
    },
    {
      "cell_type": "code",
      "source": [
        ""
      ],
      "metadata": {
        "id": "R2vh81Urgx9H"
      },
      "execution_count": null,
      "outputs": []
    },
    {
      "cell_type": "code",
      "source": [
        ""
      ],
      "metadata": {
        "id": "clZyV-1tgx4Y"
      },
      "execution_count": null,
      "outputs": []
    },
    {
      "cell_type": "code",
      "source": [
        ""
      ],
      "metadata": {
        "id": "kGCAJw5ogx09"
      },
      "execution_count": null,
      "outputs": []
    }
  ]
}