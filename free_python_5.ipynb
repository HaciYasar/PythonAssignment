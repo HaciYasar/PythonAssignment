{
  "nbformat": 4,
  "nbformat_minor": 0,
  "metadata": {
    "colab": {
      "name": "free_python_5.ipynb",
      "provenance": [],
      "collapsed_sections": [],
      "authorship_tag": "ABX9TyOaOjNDioDvTFiRh+J/96qU",
      "include_colab_link": true
    },
    "kernelspec": {
      "name": "python3",
      "display_name": "Python 3"
    },
    "language_info": {
      "name": "python"
    }
  },
  "cells": [
    {
      "cell_type": "markdown",
      "metadata": {
        "id": "view-in-github",
        "colab_type": "text"
      },
      "source": [
        "<a href=\"https://colab.research.google.com/github/HaciYasar/PythonAssignment/blob/main/free_python_5.ipynb\" target=\"_parent\"><img src=\"https://colab.research.google.com/assets/colab-badge.svg\" alt=\"Open In Colab\"/></a>"
      ]
    },
    {
      "cell_type": "code",
      "execution_count": null,
      "metadata": {
        "id": "djjHfgIxgitL"
      },
      "outputs": [],
      "source": [
        "age = input(\"Enter your age?\")\n",
        "\n",
        "while not age.isdigit() :\n",
        "  print(\"You entered incorrectly!\")\n",
        "  age = input(\"Enter your age please :\")\n",
        "print(\"Great! You entered valid input.\")"
      ]
    },
    {
      "cell_type": "code",
      "source": [
        "\"onaltı\".isdigit()"
      ],
      "metadata": {
        "colab": {
          "base_uri": "https://localhost:8080/"
        },
        "id": "eOyaLJaEkzi-",
        "outputId": "c94da072-264d-4817-f21f-6778e0c59b8d"
      },
      "execution_count": null,
      "outputs": [
        {
          "output_type": "execute_result",
          "data": {
            "text/plain": [
              "False"
            ]
          },
          "metadata": {},
          "execution_count": 2
        }
      ]
    },
    {
      "cell_type": "code",
      "source": [
        "yaş.isdigit()"
      ],
      "metadata": {
        "id": "YBXbfvr-k9ON"
      },
      "execution_count": null,
      "outputs": []
    },
    {
      "cell_type": "code",
      "source": [
        "answer = 22   # Sayı bulma oyunu\n",
        "\n",
        "question = 'What number am I thinking of?  '\n",
        "print (\"Let's play the guessing game!\")\n",
        "\n",
        "while True:\n",
        "    guess = int(input(question))\n",
        "\n",
        "    if guess < answer:\n",
        "        print('Little higher')\n",
        "    elif guess > answer:\n",
        "        print('Little lower')\n",
        "    else:  # guess == answer\n",
        "        print('Are you a MINDREADER!!!')\n",
        "        break"
      ],
      "metadata": {
        "id": "mJKMMFVDlBhS"
      },
      "execution_count": null,
      "outputs": []
    },
    {
      "cell_type": "code",
      "source": [
        "\"The best scholl is Clarusway\".split()  # split boşluklardan böler kelime kelime ayırır"
      ],
      "metadata": {
        "colab": {
          "base_uri": "https://localhost:8080/"
        },
        "id": "L_1PirN2vP1r",
        "outputId": "e4ae2678-808a-4f77-ade9-6de4c4742a8d"
      },
      "execution_count": null,
      "outputs": [
        {
          "output_type": "execute_result",
          "data": {
            "text/plain": [
              "['The', 'best', 'scholl', 'is', 'Clarusway']"
            ]
          },
          "metadata": {},
          "execution_count": 15
        }
      ]
    },
    {
      "cell_type": "code",
      "source": [
        "sentence = input(\"Give me a sentence. : \")  # En uzun kelimeyi bulma\n",
        "\n",
        "word_list = sentence.split()\n",
        "\n",
        "longest = 0\n",
        "i = 0\n",
        "\n",
        "while i < len(word_list) :\n",
        "    \n",
        "    if len(word_list[i]) > longest :\n",
        "        longest = len(word_list[i])\n",
        "        \n",
        "    i += 1\n",
        "    \n",
        "print(\"The length of the longest word : \", longest)"
      ],
      "metadata": {
        "id": "Z-g_-EM60mNS"
      },
      "execution_count": null,
      "outputs": []
    },
    {
      "cell_type": "code",
      "source": [
        "word = input(\"Give me a word :\")\n",
        "\n",
        "for i in word :\n",
        "\n",
        "    print(i, end=\"-\")"
      ],
      "metadata": {
        "id": "0Yb0NVi_0tYO"
      },
      "execution_count": null,
      "outputs": []
    },
    {
      "cell_type": "code",
      "source": [
        "word = input(\"Give me a word :\")\n",
        "counter =0\n",
        "for i in word :\n",
        "    counter += 1\n",
        "    if counter < len(word) :\n",
        "        i += \"-\"\n",
        "    print(i, end = \"\")"
      ],
      "metadata": {
        "id": "KieE4kSlCgAf"
      },
      "execution_count": null,
      "outputs": []
    },
    {
      "cell_type": "code",
      "source": [
        ""
      ],
      "metadata": {
        "id": "SfZsvH6HFSHf"
      },
      "execution_count": null,
      "outputs": []
    }
  ]
}