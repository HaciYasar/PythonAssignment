{
  "nbformat": 4,
  "nbformat_minor": 0,
  "metadata": {
    "colab": {
      "name": "free_python_13.ipynb",
      "provenance": [],
      "collapsed_sections": [],
      "authorship_tag": "ABX9TyNscI/KAHi/XcEkPD6mlxBi",
      "include_colab_link": true
    },
    "kernelspec": {
      "name": "python3",
      "display_name": "Python 3"
    },
    "language_info": {
      "name": "python"
    }
  },
  "cells": [
    {
      "cell_type": "markdown",
      "metadata": {
        "id": "view-in-github",
        "colab_type": "text"
      },
      "source": [
        "<a href=\"https://colab.research.google.com/github/HaciYasar/PythonAssignment/blob/main/free_python_13.ipynb\" target=\"_parent\"><img src=\"https://colab.research.google.com/assets/colab-badge.svg\" alt=\"Open In Colab\"/></a>"
      ]
    },
    {
      "cell_type": "code",
      "execution_count": null,
      "metadata": {
        "colab": {
          "base_uri": "https://localhost:8080/"
        },
        "id": "AwR3iFtvdh5V",
        "outputId": "b13eb427-cba5-4d12-c51d-335ea0e98eed"
      },
      "outputs": [
        {
          "output_type": "stream",
          "name": "stdout",
          "text": [
            "datatype of number_int: <class 'int'>\n",
            "datatype of number_flt: <class 'float'>\n"
          ]
        }
      ],
      "source": [
        "number_int = 123\n",
        "number_flt =1.23\n",
        "\n",
        "number_new = number_int + number_flt\n",
        "\n",
        "print (\"datatype of number_int:\", type(number_int))\n",
        "print (\"datatype of number_flt:\", type(number_flt))"
      ]
    },
    {
      "cell_type": "code",
      "source": [
        ""
      ],
      "metadata": {
        "id": "QsLu95mtd0iU"
      },
      "execution_count": null,
      "outputs": []
    }
  ]
}