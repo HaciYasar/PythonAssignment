{
  "nbformat": 4,
  "nbformat_minor": 0,
  "metadata": {
    "colab": {
      "name": "Simple_python_exercises_4.ipynb",
      "provenance": [],
      "authorship_tag": "ABX9TyPCO5RU6Fm+28gxC/ne1nqq",
      "include_colab_link": true
    },
    "kernelspec": {
      "name": "python3",
      "display_name": "Python 3"
    },
    "language_info": {
      "name": "python"
    }
  },
  "cells": [
    {
      "cell_type": "markdown",
      "metadata": {
        "id": "view-in-github",
        "colab_type": "text"
      },
      "source": [
        "<a href=\"https://colab.research.google.com/github/HaciYasar/PythonAssignment/blob/main/Simple_python_exercises_4.ipynb\" target=\"_parent\"><img src=\"https://colab.research.google.com/assets/colab-badge.svg\" alt=\"Open In Colab\"/></a>"
      ]
    },
    {
      "cell_type": "code",
      "execution_count": null,
      "metadata": {
        "colab": {
          "base_uri": "https://localhost:8080/"
        },
        "id": "uz6-73hGCgRF",
        "outputId": "8e2e2f74-4ac9-432b-c22c-36b85feca623"
      },
      "outputs": [
        {
          "output_type": "stream",
          "name": "stdout",
          "text": [
            "Ben bu akşam sinemaya gideceğim\n"
          ]
        }
      ],
      "source": [
        "print(\"{4} {2} {3} {1} {0}\".format(\"gideceğim\", \"sinemaya\", \"bu\", \"akşam\", \"Ben\",))"
      ]
    },
    {
      "cell_type": "code",
      "source": [
        "fruit = \"Orange\"\n",
        "vegetable = \"Tomato\"\n",
        "amount = 6\n",
        "output = f\"The amount of {fruit} and {vegetable} we bought are totaly {amount} pounds\"\n",
        "print(output)"
      ],
      "metadata": {
        "colab": {
          "base_uri": "https://localhost:8080/"
        },
        "id": "dLjANIoEDTuz",
        "outputId": "68d0cde9-ffdf-4db5-8d2b-7b285183ad49"
      },
      "execution_count": null,
      "outputs": [
        {
          "output_type": "stream",
          "name": "stdout",
          "text": [
            "The amount of Orange and Tomato we bought are totaly 6 pounds\n"
          ]
        }
      ]
    },
    {
      "cell_type": "code",
      "source": [
        "sample = f\"{2 ** 3}\" #süslü parantezin içerisinde matematik işlemleri yapılır.\n",
        "print(sample)"
      ],
      "metadata": {
        "colab": {
          "base_uri": "https://localhost:8080/"
        },
        "id": "ohdpXAvAF9Cx",
        "outputId": "f518d224-0157-4f1a-fb90-4596b0377bfa"
      },
      "execution_count": null,
      "outputs": [
        {
          "output_type": "stream",
          "name": "stdout",
          "text": [
            "8\n"
          ]
        }
      ]
    },
    {
      "cell_type": "code",
      "source": [
        "my_name = \"MARİAM\"  # capitalize metodu baş harfi büyütür.\n",
        "output = f\"My name is {my_name.capitalize()}\"\n",
        "print(output)"
      ],
      "metadata": {
        "colab": {
          "base_uri": "https://localhost:8080/"
        },
        "id": "2xPHMpygGjE-",
        "outputId": "7deed0e1-5304-4b6e-b7b0-0c4186cbbbee"
      },
      "execution_count": null,
      "outputs": [
        {
          "output_type": "stream",
          "name": "stdout",
          "text": [
            "My name is Mari̇am\n"
          ]
        }
      ]
    },
    {
      "cell_type": "code",
      "source": [
        "name = \"Joseph\"   # f string metodunda her bir satırlara bölebiliyoruz. \n",
        "jop = \"teachers\"\n",
        "domain = \"Data Science\"\n",
        "message = (\n",
        "    f\"Hi {name}. \"\n",
        "    f\"You are are one of the {jop} \"    # her bir satırın başına f yazarak satırlara bölebiliriz\n",
        "    f\"in the {domain} section.\"   # Ters slaçlada yapılabilir. \\ o zaman satırlara f yazmaya gerek yoktur.\n",
        ")\n",
        "print(message)  # çıktıyı tek satırda alır.Sadece göze düzgün hitap etmersi için kullanılır."
      ],
      "metadata": {
        "colab": {
          "base_uri": "https://localhost:8080/"
        },
        "id": "0TOn3nkWIAVV",
        "outputId": "1d090f4f-1132-4d25-ddb8-081c33c06a2b"
      },
      "execution_count": null,
      "outputs": [
        {
          "output_type": "stream",
          "name": "stdout",
          "text": [
            "Hi Joseph. You are are one of the teachers in the Data Science section.\n"
          ]
        }
      ]
    },
    {
      "cell_type": "code",
      "source": [
        "name = \"Susan\"    # Örnek\n",
        "age = \"young\"\n",
        "gender = \"lady\"\n",
        "school = \"CLRWY IT university\" \n",
        "message =(\n",
        "    f\"{name} is a {age} \"\n",
        "    f\"{gender} and she is astudent \"\n",
        "    f\"at the {school}.\"\n",
        ")\n",
        "print(message)"
      ],
      "metadata": {
        "colab": {
          "base_uri": "https://localhost:8080/"
        },
        "id": "fWcEVT-eMy9R",
        "outputId": "101cf4dc-686b-4592-b464-3725617e3dc8"
      },
      "execution_count": null,
      "outputs": [
        {
          "output_type": "stream",
          "name": "stdout",
          "text": [
            "Susan is a young lady and she is astudent at the CLRWY IT university.\n"
          ]
        }
      ]
    },
    {
      "cell_type": "code",
      "source": [
        "isim = \"ALİ veli\""
      ],
      "metadata": {
        "id": "6bXWSHkTPTQC"
      },
      "execution_count": null,
      "outputs": []
    },
    {
      "cell_type": "code",
      "source": [
        "isim.swapcase()"
      ],
      "metadata": {
        "colab": {
          "base_uri": "https://localhost:8080/",
          "height": 35
        },
        "id": "xYS2ciiAXfwZ",
        "outputId": "2b09e4cb-3463-4c9a-f070-573d747c1f2a"
      },
      "execution_count": null,
      "outputs": [
        {
          "output_type": "execute_result",
          "data": {
            "application/vnd.google.colaboratory.intrinsic+json": {
              "type": "string"
            },
            "text/plain": [
              "'ali̇ VELI'"
            ]
          },
          "metadata": {},
          "execution_count": 26
        }
      ]
    },
    {
      "cell_type": "code",
      "source": [
        " var_str = \"In God we Trust\""
      ],
      "metadata": {
        "id": "jpcJaVmnXmFq"
      },
      "execution_count": null,
      "outputs": []
    },
    {
      "cell_type": "code",
      "source": [
        "var_str.lower()\n",
        "print(var_str)"
      ],
      "metadata": {
        "colab": {
          "base_uri": "https://localhost:8080/"
        },
        "id": "vCCYvvyxacqh",
        "outputId": "7c2e152c-d192-4c1f-b9e9-286caf7b6765"
      },
      "execution_count": null,
      "outputs": [
        {
          "output_type": "stream",
          "name": "stdout",
          "text": [
            "In God we Trust\n"
          ]
        }
      ]
    },
    {
      "cell_type": "code",
      "source": [
        "text = \"S0d0me and G0m0re\""
      ],
      "metadata": {
        "id": "5DVVJ6VVagTk"
      },
      "execution_count": null,
      "outputs": []
    },
    {
      "cell_type": "code",
      "source": [
        "text.replace(\"0\", \"o\")"
      ],
      "metadata": {
        "colab": {
          "base_uri": "https://localhost:8080/",
          "height": 35
        },
        "id": "dlxYF_U8hD1z",
        "outputId": "badda718-8fde-493f-be96-ea97e929a3af"
      },
      "execution_count": null,
      "outputs": [
        {
          "output_type": "execute_result",
          "data": {
            "application/vnd.google.colaboratory.intrinsic+json": {
              "type": "string"
            },
            "text/plain": [
              "'Sodome and Gomore'"
            ]
          },
          "metadata": {},
          "execution_count": 31
        }
      ]
    },
    {
      "cell_type": "code",
      "source": [
        "text = text.replace(\"0\", \"o\")"
      ],
      "metadata": {
        "id": "RtRfn5SRhUV4"
      },
      "execution_count": null,
      "outputs": []
    },
    {
      "cell_type": "code",
      "source": [
        "text"
      ],
      "metadata": {
        "colab": {
          "base_uri": "https://localhost:8080/",
          "height": 35
        },
        "id": "YAweg5gUhX5H",
        "outputId": "d52a1ab5-77cb-4af6-8a43-6e05c80c2bce"
      },
      "execution_count": null,
      "outputs": [
        {
          "output_type": "execute_result",
          "data": {
            "application/vnd.google.colaboratory.intrinsic+json": {
              "type": "string"
            },
            "text/plain": [
              "'Sodome and Gomore'"
            ]
          },
          "metadata": {},
          "execution_count": 34
        }
      ]
    },
    {
      "cell_type": "code",
      "source": [
        ""
      ],
      "metadata": {
        "id": "AmWarZ-chfsm"
      },
      "execution_count": null,
      "outputs": []
    }
  ]
}