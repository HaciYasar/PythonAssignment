{
  "nbformat": 4,
  "nbformat_minor": 0,
  "metadata": {
    "colab": {
      "name": "free_python_15.ipynb",
      "provenance": [],
      "collapsed_sections": [],
      "authorship_tag": "ABX9TyMGrDe236bMXTeHqP6Ld3/b",
      "include_colab_link": true
    },
    "kernelspec": {
      "name": "python3",
      "display_name": "Python 3"
    },
    "language_info": {
      "name": "python"
    }
  },
  "cells": [
    {
      "cell_type": "markdown",
      "metadata": {
        "id": "view-in-github",
        "colab_type": "text"
      },
      "source": [
        "<a href=\"https://colab.research.google.com/github/HaciYasar/PythonAssignment/blob/main/free_python_15.ipynb\" target=\"_parent\"><img src=\"https://colab.research.google.com/assets/colab-badge.svg\" alt=\"Open In Colab\"/></a>"
      ]
    },
    {
      "cell_type": "code",
      "execution_count": null,
      "metadata": {
        "colab": {
          "base_uri": "https://localhost:8080/"
        },
        "id": "TVyhpHEfLzrO",
        "outputId": "7aaad2cc-be87-41fd-e931-e5e4e167a784"
      },
      "outputs": [
        {
          "output_type": "stream",
          "name": "stdout",
          "text": [
            "Adınız : Guido\n",
            "Soyadınız : van Rossum\n",
            "\n",
            "Adınız : Marry\n",
            "Soyadınız : Bold\n"
          ]
        }
      ],
      "source": [
        "def who(first, last) :  # 'first' and 'last' are the parameters(or variables)\n",
        "    print('Adınız :', first)\n",
        "    print('Soyadınız :', last)\n",
        "\n",
        "who('Guido', 'van Rossum')  # 'Guido' and 'van Rossum' are the arguments\n",
        "print()\n",
        "who('Marry', 'Bold')  # 'Marry' and 'Bold' are also the arguments"
      ]
    },
    {
      "cell_type": "code",
      "source": [
        "def pos_args(a, b):\n",
        "    print(a, 'is the first argument')\n",
        "    print(b, 'is the second argument')\n",
        "\n",
        "pos_args(3,4)\n",
        "print()\n",
        "pos_args(4,3)"
      ],
      "metadata": {
        "colab": {
          "base_uri": "https://localhost:8080/"
        },
        "id": "bDaI_dzcMIrb",
        "outputId": "d0abaaa5-d719-4db4-8001-4a7204c19cab"
      },
      "execution_count": null,
      "outputs": [
        {
          "output_type": "stream",
          "name": "stdout",
          "text": [
            "3 is the first argument\n",
            "4 is the second argument\n",
            "\n",
            "4 is the first argument\n",
            "3 is the second argument\n"
          ]
        }
      ]
    },
    {
      "cell_type": "code",
      "source": [
        "def who(first, last) :  # same structure as the previous one\n",
        "    print('Your first name is :', first)\n",
        "    print('Your last name is :', last)\n",
        "\n",
        "who(first='Guido', last='van Rossum')  # calling the function is different\n",
        "# we used kwargs to pass the values into the function"
      ],
      "metadata": {
        "colab": {
          "base_uri": "https://localhost:8080/"
        },
        "id": "vx0geLbsNij4",
        "outputId": "7020af84-fa5a-4e3f-dd23-8e3a2781bf71"
      },
      "execution_count": null,
      "outputs": [
        {
          "output_type": "stream",
          "name": "stdout",
          "text": [
            "Your first name is : Guido\n",
            "Your last name is : van Rossum\n"
          ]
        }
      ]
    },
    {
      "cell_type": "code",
      "source": [
        "def parrot(voltage, state='a stiff', action='voom', type='Norwegian Blue'):\n",
        "    print(\"-- This parrot wouldn't\", action, end=' ')\n",
        "    print(\"if you put\", voltage, \"volts through it.\")\n",
        "    print(\"-- Lovely plumage, the\", type)\n",
        "    print(\"-- It's\", state, \"!\")"
      ],
      "metadata": {
        "id": "fbaF0pHBN4wI"
      },
      "execution_count": null,
      "outputs": []
    },
    {
      "cell_type": "code",
      "source": [
        "parrot(1000)                                          # 1 positional argument\n",
        "parrot(voltage=1000)                                  # 1 keyword argument\n",
        "parrot(voltage=1000000, action='VOOOOOM')             # 2 keyword arguments\n",
        "parrot(action='VOOOOOM', voltage=1000000)             # 2 keyword arguments \n",
        "parrot('a million', 'bereft of life', 'jump')         # 3 positional arguments\n",
        "parrot('a thousand', state='pushing up the daisies')  # 1 positional, 1 keyword\n"
      ],
      "metadata": {
        "colab": {
          "base_uri": "https://localhost:8080/"
        },
        "id": "KxpWeCQLOGcn",
        "outputId": "3eec4bb1-bec5-4472-9fab-741a96635104"
      },
      "execution_count": null,
      "outputs": [
        {
          "output_type": "stream",
          "name": "stdout",
          "text": [
            "-- This parrot wouldn't voom if you put 1000 volts through it.\n",
            "-- Lovely plumage, the Norwegian Blue\n",
            "-- It's a stiff !\n",
            "1000\n",
            "-- This parrot wouldn't voom if you put 1000 volts through it.\n",
            "-- Lovely plumage, the Norwegian Blue\n",
            "-- It's a stiff !\n",
            "1000\n",
            "-- This parrot wouldn't VOOOOOM if you put 1000000 volts through it.\n",
            "-- Lovely plumage, the Norwegian Blue\n",
            "-- It's a stiff !\n",
            "1000000\n",
            "-- This parrot wouldn't VOOOOOM if you put 1000000 volts through it.\n",
            "-- Lovely plumage, the Norwegian Blue\n",
            "-- It's a stiff !\n",
            "1000000\n",
            "-- This parrot wouldn't jump if you put a million volts through it.\n",
            "-- Lovely plumage, the Norwegian Blue\n",
            "-- It's bereft of life !\n",
            "a million\n",
            "-- This parrot wouldn't voom if you put a thousand volts through it.\n",
            "-- Lovely plumage, the Norwegian Blue\n",
            "-- It's pushing up the daisies !\n",
            "a thousand\n"
          ]
        }
      ]
    },
    {
      "cell_type": "code",
      "source": [
        "def fruiterer(*fruit) :\n",
        "    print('I want to get :')\n",
        "    for i in fruit :\n",
        "        print('-', i)\n",
        "        \n",
        "fruiterer('orange', 'banana', 'melon', 'ananas')"
      ],
      "metadata": {
        "colab": {
          "base_uri": "https://localhost:8080/"
        },
        "id": "wehTBBm2OhFu",
        "outputId": "a55e386d-6929-4ac5-ec6f-a8d198c0cd5f"
      },
      "execution_count": null,
      "outputs": [
        {
          "output_type": "stream",
          "name": "stdout",
          "text": [
            "I want to get :\n",
            "- orange\n",
            "- banana\n",
            "- melon\n",
            "- ananas\n"
          ]
        }
      ]
    },
    {
      "cell_type": "code",
      "source": [
        "def animals(**kwargs):\n",
        "    for key, value in kwargs.items():\n",
        "        print(value, \"are\", key)\n",
        " \n",
        "animals(Carnivores=\"Lions\", Omnivores=\"Bears\", Herbivores=\"Deers\", Nomnivores=\"Human\")"
      ],
      "metadata": {
        "colab": {
          "base_uri": "https://localhost:8080/"
        },
        "id": "VS3ism9MPnf7",
        "outputId": "a3d2a748-d1ad-4495-eef0-26539d21170c"
      },
      "execution_count": null,
      "outputs": [
        {
          "output_type": "stream",
          "name": "stdout",
          "text": [
            "Lions are Carnivores\n",
            "Bears are Omnivores\n",
            "Deers are Herbivores\n",
            "Human are Nomnivores\n"
          ]
        }
      ]
    },
    {
      "cell_type": "code",
      "source": [
        "def gene(x, y):  # defined by positional args\n",
        "    print(x, \"belongs to Generation X\")\n",
        "    print(y, \"belongs to Generation Y\")\n",
        " \n",
        "dict_gene = {'y' : \"Marry\", 'x' : \"Fred\"}\n",
        "gene(**dict_gene)  # we call the function by a single argument(variable)"
      ],
      "metadata": {
        "colab": {
          "base_uri": "https://localhost:8080/"
        },
        "id": "WEUvuHBGP9M7",
        "outputId": "6ca3d058-ef2a-4ad9-eba2-596b7b3edf2f"
      },
      "execution_count": null,
      "outputs": [
        {
          "output_type": "stream",
          "name": "stdout",
          "text": [
            "Fred belongs to Generation X\n",
            "Marry belongs to Generation Y\n"
          ]
        }
      ]
    },
    {
      "cell_type": "code",
      "source": [
        ""
      ],
      "metadata": {
        "id": "2wGSKManQLGK"
      },
      "execution_count": null,
      "outputs": []
    }
  ]
}