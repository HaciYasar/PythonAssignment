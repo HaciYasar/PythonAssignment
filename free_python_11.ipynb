{
  "nbformat": 4,
  "nbformat_minor": 0,
  "metadata": {
    "colab": {
      "name": "free_python_11.ipynb",
      "provenance": [],
      "collapsed_sections": [],
      "authorship_tag": "ABX9TyMsnMvoUG0xzrTJkBnKEYPw",
      "include_colab_link": true
    },
    "kernelspec": {
      "name": "python3",
      "display_name": "Python 3"
    },
    "language_info": {
      "name": "python"
    }
  },
  "cells": [
    {
      "cell_type": "markdown",
      "metadata": {
        "id": "view-in-github",
        "colab_type": "text"
      },
      "source": [
        "<a href=\"https://colab.research.google.com/github/HaciYasar/PythonAssignment/blob/main/free_python_11.ipynb\" target=\"_parent\"><img src=\"https://colab.research.google.com/assets/colab-badge.svg\" alt=\"Open In Colab\"/></a>"
      ]
    },
    {
      "cell_type": "code",
      "execution_count": null,
      "metadata": {
        "colab": {
          "base_uri": "https://localhost:8080/"
        },
        "id": "d3SroOrlTI6X",
        "outputId": "9289616d-f214-4510-881a-674ca006df93"
      },
      "outputs": [
        {
          "output_type": "stream",
          "name": "stdout",
          "text": [
            "4\n"
          ]
        }
      ],
      "source": [
        "sayılar = [1, 3, 7, 4, 3, 0, 3, 6, 3]\n",
        "print(sayılar.count(3))"
      ]
    },
    {
      "cell_type": "code",
      "source": [
        "\n",
        "test_list = [ 1, 6, 3, 5, 3, 4 ] \n",
        "  \n",
        "print(test_list) \n",
        "  \n",
        " \n",
        "# For Döngüsü\n",
        "for i in test_list: \n",
        "    if(i == 4) : \n",
        "        print (\"Aranan Değer Mevcut\")"
      ],
      "metadata": {
        "colab": {
          "base_uri": "https://localhost:8080/"
        },
        "id": "QGf_6nHGUiFO",
        "outputId": "92a694bf-76c5-4435-cf0d-5526f60178c1"
      },
      "execution_count": null,
      "outputs": [
        {
          "output_type": "stream",
          "name": "stdout",
          "text": [
            "[1, 6, 3, 5, 3, 4]\n",
            "Aranan Değer Mevcut\n"
          ]
        }
      ]
    },
    {
      "cell_type": "code",
      "source": [
        ""
      ],
      "metadata": {
        "id": "NPeHY98AVA-h"
      },
      "execution_count": null,
      "outputs": []
    }
  ]
}